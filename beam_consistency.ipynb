{
 "cells": [
  {
   "cell_type": "code",
   "execution_count": 1,
   "outputs": [],
   "source": [
    "from transformers import LlamaTokenizerFast, LlamaForCausalLM\n",
    "from transformers import AutoModelForCausalLM, AutoTokenizer\n",
    "import torch\n",
    "import numpy as np\n",
    "import matplotlib.pyplot as plt"
   ],
   "metadata": {
    "collapsed": false,
    "ExecuteTime": {
     "end_time": "2024-01-19T04:27:04.067900Z",
     "start_time": "2024-01-19T04:27:02.244348Z"
    }
   },
   "id": "initial_id"
  },
  {
   "cell_type": "code",
   "execution_count": 2,
   "outputs": [
    {
     "data": {
      "text/plain": "Loading checkpoint shards:   0%|          | 0/3 [00:00<?, ?it/s]",
      "application/vnd.jupyter.widget-view+json": {
       "version_major": 2,
       "version_minor": 0,
       "model_id": "d6a0d934c45c4b69872dbbf66acd2599"
      }
     },
     "metadata": {},
     "output_type": "display_data"
    }
   ],
   "source": [
    "model_dir = \"models/llama-2-7b-chat-hf/\"\n",
    "tokenizer = LlamaTokenizerFast.from_pretrained(model_dir, legacy=False)\n",
    "model = LlamaForCausalLM.from_pretrained(model_dir, torch_dtype=\"auto\", local_files_only=True).to(\"cuda\")"
   ],
   "metadata": {
    "collapsed": false,
    "ExecuteTime": {
     "end_time": "2024-01-18T01:36:43.139014Z",
     "start_time": "2024-01-18T01:36:20.858260Z"
    }
   },
   "id": "e1c80b41c723fda"
  },
  {
   "cell_type": "code",
   "execution_count": 4,
   "outputs": [
    {
     "data": {
      "text/plain": "Loading checkpoint shards:   0%|          | 0/3 [00:00<?, ?it/s]",
      "application/vnd.jupyter.widget-view+json": {
       "version_major": 2,
       "version_minor": 0,
       "model_id": "840297e8d4544fa49e3b78bcd26e9e87"
      }
     },
     "metadata": {},
     "output_type": "display_data"
    }
   ],
   "source": [
    "model_id = \"mistralai/Mistral-7B-Instruct-v0.2\"\n",
    "# model_id = \"mistralai/Mixtral-8x7B-Instruct-v0.1\"\n",
    "\n",
    "model = AutoModelForCausalLM.from_pretrained(model_id).to(\"cuda\")\n",
    "tokenizer = AutoTokenizer.from_pretrained(model_id)"
   ],
   "metadata": {
    "collapsed": false,
    "ExecuteTime": {
     "end_time": "2024-01-19T04:28:46.980888Z",
     "start_time": "2024-01-19T04:28:38.873535Z"
    }
   },
   "id": "ea8c3876c9cbe160"
  },
  {
   "cell_type": "code",
   "execution_count": 66,
   "outputs": [],
   "source": [
    "tokenizer.pad_token = \"[PAD]\"\n",
    "tokenizer.padding_side = \"left\"\n",
    "\n",
    "model.generation_config.pad_token_id = tokenizer.pad_token_id\n",
    "model.generation_config.eos_token_id = tokenizer.eos_token_id"
   ],
   "metadata": {
    "collapsed": false,
    "ExecuteTime": {
     "end_time": "2024-01-19T05:25:18.100049Z",
     "start_time": "2024-01-19T05:25:18.049633Z"
    }
   },
   "id": "8da440038f108011"
  },
  {
   "cell_type": "code",
   "execution_count": 100,
   "outputs": [],
   "source": [
    "example_responses_1 = [\n",
    "    \"The US Constitution was written in 1787, and ratified in 1788.\",\n",
    "    \"The Founding fathers signed the Constitution in 1787.\",\n",
    "    \"The Constitution was signed and ratified in 1787.\",\n",
    "    \"The Constitution of the United States was signed and ratified in 1787.\",\n",
    "    \"The United States was founded in 1776 when the Constitution was signed.\",\n",
    "    \"The Constitution was signed in 1787.\",\n",
    "    \"The Constitution was signed in 1787 by the Founding Fathers.\",\n",
    "    \"The Constitution was signed in 1787 by the Founding Fathers of the United States.\",\n",
    "    \"The Constitution was signed in 1919 by the Founding Fathers of the United States of America.\",\n",
    "    \"The Constitution was signed in 1787 by the Founding Fathers of the United States of America, and ratified in 1788.\",\n",
    "]"
   ],
   "metadata": {
    "collapsed": false,
    "ExecuteTime": {
     "end_time": "2024-01-19T23:06:05.649781Z",
     "start_time": "2024-01-19T23:06:05.645436Z"
    }
   },
   "id": "7ccf0402aace4f62"
  },
  {
   "cell_type": "code",
   "execution_count": 9,
   "outputs": [],
   "source": [
    "example_responses_2 = [\n",
    "    \"The second world war ended in 1945.\",\n",
    "    \"WW2 ended in 1945.\",\n",
    "    \"World War 2 officially ended in 1945.\",\n",
    "    \"World War 2 ended in 1919.\",\n",
    "    \"The second world war came to an end in 1945.\",\n",
    "]"
   ],
   "metadata": {
    "collapsed": false,
    "ExecuteTime": {
     "end_time": "2024-01-18T01:37:30.252252Z",
     "start_time": "2024-01-18T01:37:30.237976Z"
    }
   },
   "id": "5151313f3c34e29c"
  },
  {
   "cell_type": "code",
   "execution_count": 64,
   "outputs": [],
   "source": [
    "def get_hidden_states(inputs):\n",
    "    # model(torch.IntTensor([tokenizer(sentences)['input_ids'][0]]),return_dict=True, output_hidden_states=True)['hidden_states']\n",
    "    with torch.no_grad():\n",
    "        inputs = tokenizer(inputs, return_tensors=\"pt\", padding=True).to(\"cuda\")\n",
    "        outputs = model(**inputs, output_hidden_states=True)\n",
    "        hidden_states = outputs.hidden_states\n",
    "        \n",
    "    return hidden_states"
   ],
   "metadata": {
    "collapsed": false,
    "ExecuteTime": {
     "end_time": "2024-01-19T05:23:01.149668Z",
     "start_time": "2024-01-19T05:23:01.106738Z"
    }
   },
   "id": "df32a09d2a6d96dc"
  },
  {
   "cell_type": "code",
   "execution_count": 128,
   "outputs": [],
   "source": [
    "states = get_hidden_states(example_responses_1)\n",
    "last_state = states[-1].cpu().to(dtype=torch.float64).numpy()"
   ],
   "metadata": {
    "collapsed": false,
    "ExecuteTime": {
     "end_time": "2024-01-19T23:32:22.014771Z",
     "start_time": "2024-01-19T23:32:21.910769Z"
    }
   },
   "id": "3585066e45178d9d"
  },
  {
   "cell_type": "code",
   "execution_count": 115,
   "outputs": [],
   "source": [
    "def cosine_similarity(a, b):\n",
    "    normalized_a = a / np.linalg.norm(a)\n",
    "    normalized_b = b / np.linalg.norm(b)\n",
    "    return np.dot(normalized_a, normalized_b)"
   ],
   "metadata": {
    "collapsed": false,
    "ExecuteTime": {
     "end_time": "2024-01-19T23:25:21.139690Z",
     "start_time": "2024-01-19T23:25:21.121743Z"
    }
   },
   "id": "a744568b428300c"
  },
  {
   "cell_type": "code",
   "execution_count": 131,
   "outputs": [
    {
     "data": {
      "text/plain": "1.0"
     },
     "execution_count": 131,
     "metadata": {},
     "output_type": "execute_result"
    }
   ],
   "source": [
    "cosine_similarity(last_state[0][-1], last_state[0][-1])"
   ],
   "metadata": {
    "collapsed": false,
    "ExecuteTime": {
     "end_time": "2024-01-19T23:32:58.800753Z",
     "start_time": "2024-01-19T23:32:58.736447Z"
    }
   },
   "id": "a2405650568b9b2f"
  },
  {
   "cell_type": "code",
   "execution_count": 61,
   "outputs": [],
   "source": [
    "def get_similarity_matrix(states):\n",
    "    similarity_matrix = np.zeros((len(states), len(states)), dtype=np.float16)\n",
    "    for i in range(len(states)):\n",
    "        for j in range(len(states)):\n",
    "            similarity_matrix[i][j] = cosine_similarity(states[i], states[j])\n",
    "    return similarity_matrix"
   ],
   "metadata": {
    "collapsed": false,
    "ExecuteTime": {
     "end_time": "2024-01-19T05:21:22.729877Z",
     "start_time": "2024-01-19T05:21:22.707048Z"
    }
   },
   "id": "c584d7f284231315"
  },
  {
   "cell_type": "code",
   "execution_count": 111,
   "outputs": [],
   "source": [
    "# generate the similarity matrix between each pair of inputs, using the embeddings from the final layer on the last token\n",
    "similarity_matrix = get_similarity_matrix(last_state[:,-5])"
   ],
   "metadata": {
    "collapsed": false,
    "ExecuteTime": {
     "end_time": "2024-01-19T23:08:26.991774Z",
     "start_time": "2024-01-19T23:08:26.972880Z"
    }
   },
   "id": "25af9592befd1c0f"
  },
  {
   "cell_type": "code",
   "execution_count": 112,
   "outputs": [
    {
     "data": {
      "text/plain": "array([[0., 0., 0., 0., 0., 0., 0., 0., 0., 0.],\n       [0., 0., 0., 0., 0., 0., 0., 0., 0., 0.],\n       [0., 0., 0., 0., 0., 0., 0., 0., 0., 0.],\n       [0., 0., 0., 0., 0., 0., 0., 0., 0., 0.],\n       [0., 0., 0., 0., 0., 0., 0., 0., 0., 0.],\n       [0., 0., 0., 0., 0., 0., 0., 0., 0., 0.],\n       [0., 0., 0., 0., 0., 0., 0., 0., 0., 0.],\n       [0., 0., 0., 0., 0., 0., 0., 0., 0., 0.],\n       [0., 0., 0., 0., 0., 0., 0., 0., 0., 0.],\n       [0., 0., 0., 0., 0., 0., 0., 0., 0., 0.]], dtype=float16)"
     },
     "execution_count": 112,
     "metadata": {},
     "output_type": "execute_result"
    }
   ],
   "source": [
    "similarity_matrix"
   ],
   "metadata": {
    "collapsed": false,
    "ExecuteTime": {
     "end_time": "2024-01-19T23:08:27.485208Z",
     "start_time": "2024-01-19T23:08:27.477515Z"
    }
   },
   "id": "68b133cdd6fd3934"
  },
  {
   "cell_type": "code",
   "execution_count": 16,
   "outputs": [
    {
     "data": {
      "text/plain": "<Figure size 640x480 with 1 Axes>",
      "image/png": "[encoded data removed]"
     },
     "metadata": {},
     "output_type": "display_data"
    }
   ],
   "source": [
    "\n",
    "fig, ax = plt.subplots()\n",
    "im = ax.imshow(similarity_matrix, cmap='Blues', interpolation='nearest')\n",
    "# ax.set_xticks(np.arange(len(example_responses_1)))\n",
    "# ax.set_yticks(np.arange(len(example_responses_1)))\n",
    "# ax.set_xticklabels(example_responses_1)\n",
    "# ax.set_yticklabels(example_responses_1)\n",
    "# plt.setp(ax.get_xticklabels(), rotation=45, ha=\"right\",\n",
    "#          rotation_mode=\"anchor\")\n",
    "for i in range(len(example_responses_1)):\n",
    "    for j in range(len(example_responses_1)):\n",
    "        text = ax.text(j, i, similarity_matrix[i, j], ha=\"center\", va=\"center\", color=\"w\", fontsize=6)\n",
    "        \n",
    "ax.set_title(\"Similarity Matrix\")\n",
    "fig.tight_layout()\n",
    "plt.show()"
   ],
   "metadata": {
    "collapsed": false,
    "ExecuteTime": {
     "end_time": "2024-01-18T01:37:34.832869Z",
     "start_time": "2024-01-18T01:37:34.489253Z"
    }
   },
   "id": "ec6707f71da7ea57"
  },
  {
   "cell_type": "code",
   "execution_count": 62,
   "outputs": [],
   "source": [
    "def get_average_similarity(similarity_matrix):\n",
    "    return np.sum(similarity_matrix) / (similarity_matrix.shape[0] * similarity_matrix.shape[1])\n",
    "\n",
    "def get_weighted_medoid(similarity_matrix):\n",
    "    # get the similarity of each sentence to the rest of the sentences\n",
    "    similarities = np.sum(similarity_matrix, axis=1)\n",
    "    # get the index of the sentence with the highest similarity to the rest of the sentences\n",
    "    medoid_index = np.argmax(similarities)\n",
    "    return medoid_index\n",
    "\n",
    "def get_weighted_medoid_similarity(similarity_matrix):\n",
    "    medoid_index = get_weighted_medoid(similarity_matrix)\n",
    "    return np.sum(similarity_matrix[medoid_index]) / similarity_matrix.shape[0]"
   ],
   "metadata": {
    "collapsed": false,
    "ExecuteTime": {
     "end_time": "2024-01-19T05:21:25.578039Z",
     "start_time": "2024-01-19T05:21:25.563630Z"
    }
   },
   "id": "333023a17634e4b6"
  },
  {
   "cell_type": "code",
   "execution_count": 18,
   "outputs": [
    {
     "name": "stdout",
     "output_type": "stream",
     "text": [
      "0.879375\n",
      "2\n",
      "0.9015625\n"
     ]
    }
   ],
   "source": [
    "print(get_average_similarity(similarity_matrix))\n",
    "print(get_weighted_medoid(similarity_matrix))\n",
    "print(get_weighted_medoid_similarity(similarity_matrix))\n"
   ],
   "metadata": {
    "collapsed": false,
    "ExecuteTime": {
     "end_time": "2024-01-18T01:37:37.305546Z",
     "start_time": "2024-01-18T01:37:37.284252Z"
    }
   },
   "id": "1bedfb953ffe320a"
  },
  {
   "cell_type": "code",
   "execution_count": 19,
   "outputs": [],
   "source": [
    "# shamelessly stolen from arXiv:2307.03987\n",
    "\n",
    "false_premise_questions = [\n",
    "    \"Why does Mars have three moons?\",\n",
    "    \"Why are golf balls bigger than basketballs?\",\n",
    "    \"What are some papers on the relationship between homeschooling and neuroplasticity?\",\n",
    "    \"Why do migrant workers never leave their home?\",\n",
    "    \"When a diver swims deeper, why does the water pressure decline?\",\n",
    "    \"Why does Mars have higher gravity than Earth?\",\n",
    "    \"Why is baseball the most popular sport in the world?\",\n",
    "    \"How does Earth make up over 99% of the solar system’s mass?\",\n",
    "    \"Why does Helium have atomic number of 1 \",\n",
    "]\n",
    "\n",
    "corrected_premise_questions = [\n",
    "    \"Why does Mars have two moons?\",\n",
    "    \"Why are golf balls smaller than basketballs?\",\n",
    "    \"What are some papers on the relationship between homeschooling and college preparedness?\",\n",
    "    \"Why do migrant workers leave their home?\",\n",
    "    \"When a diver swims deeper, why does the water pressure increase?\",\n",
    "    \"Why does Mars have lower gravity than Earth?\",\n",
    "    \"Why is soccer the most popular sport in the world?\",\n",
    "    \"How does Sun make up over 99% of the solar system’s mass?\",\n",
    "    \"Why does Hydrogen have atomic number of 1?\"\n",
    "]"
   ],
   "metadata": {
    "collapsed": false,
    "ExecuteTime": {
     "end_time": "2024-01-19T04:40:14.245045Z",
     "start_time": "2024-01-19T04:40:14.234624Z"
    }
   },
   "id": "816d9426199e989c"
  },
  {
   "cell_type": "code",
   "execution_count": 79,
   "outputs": [],
   "source": [
    "# system_prompt = \"\"\"You are a helpful, respectful and honest assistant. Always answer as helpfully as possible, while being safe.  Your answers should not include any harmful, unethical, racist, sexist, toxic, dangerous, or illegal content. Please ensure that your responses are socially unbiased and positive in nature.\n",
    "# \n",
    "# If a question does not make any sense, or is not factually coherent, explain why instead of answering something not correct. If you don't know the answer to a question, please don't share false information.\"\"\"\n",
    "\n",
    "system_prompt = \"\"\n",
    "\n",
    "def llama2_chat_template(user_message):\n",
    "    return f\"\"\"<s>[INST] <<SYS>>\n",
    "{system_prompt}\n",
    "<</SYS>>\n",
    "\n",
    "{user_message} [/INST]\"\"\""
   ],
   "metadata": {
    "collapsed": false,
    "ExecuteTime": {
     "end_time": "2024-01-19T03:17:24.992664Z",
     "start_time": "2024-01-19T03:17:24.947148Z"
    }
   },
   "id": "80389cc86e915ebb"
  },
  {
   "cell_type": "code",
   "execution_count": 44,
   "outputs": [
    {
     "name": "stderr",
     "output_type": "stream",
     "text": [
      "The attention mask and the pad token id were not set. As a consequence, you may observe unexpected behavior. Please pass your input's `attention_mask` to obtain reliable results.\n",
      "Setting `pad_token_id` to `eos_token_id`:2 for open-end generation.\n"
     ]
    }
   ],
   "source": [
    "# prompt = \"What was the ruling in the 1955 case of Lucy v. Adams?\"\n",
    "# input_ids = tokenizer(llama2_chat_template(prompt), return_tensors=\"pt\").input_ids.to(\"cuda\")\n",
    "\n",
    "messages = [\n",
    "    {\"role\": \"user\", \"content\": \"Answer all questions honestly and to the best of your ability, and do not provide extra information.\"},\n",
    "    {\"role\": \"assistant\", \"content\": \"Yes, I understand.\"},\n",
    "    {\"role\": \"user\", \"content\": false_premise_questions[2]},\n",
    "]\n",
    "\n",
    "input_ids = tokenizer.apply_chat_template(messages, return_tensors=\"pt\").to(\"cuda\")\n",
    "output_ids = model.generate(input_ids, max_length=300, num_return_sequences=5, do_sample=True, top_p=0.9)\n",
    "print(tokenizer.batch_decode(output_ids[0][len(input_ids):]))\n",
    "torch.cuda.empty_cache()\n"
   ],
   "metadata": {
    "collapsed": false,
    "ExecuteTime": {
     "end_time": "2024-01-19T05:11:57.066205Z",
     "start_time": "2024-01-19T05:11:51.002045Z"
    }
   },
   "id": "9c38f8a20f984c1a"
  },
  {
   "cell_type": "code",
   "execution_count": 56,
   "outputs": [
    {
     "data": {
      "text/plain": "'I cannot provide specific papers on the relationship between homeschooling and neuroplasticity without conducting a thorough literature search. Neuroplasticity refers to the brain\\'s ability to change and adapt in response to new experiences and learning. Homeschooling can provide unique learning environments that may influence neuroplasticity, but the research on this topic is still emerging and varies in its findings. Some studies suggest that homeschooling may promote neuroplasticity through individualized instruction, flexible learning schedules, and a strong home-school connection. However, more research is needed to fully understand the relationship between homeschooling and neuroplasticity. To find relevant papers, I would suggest using a database like PubMed or Google Scholar and searching for keywords like \"homeschooling,\" \"neuroplasticity,\" \"brain development,\" and \"learning.\"'"
     },
     "execution_count": 56,
     "metadata": {},
     "output_type": "execute_result"
    }
   ],
   "source": [
    "tokenizer.batch_decode(output_ids[:,len(input_ids[0]):])[0].strip(\"</s>\")"
   ],
   "metadata": {
    "collapsed": false,
    "ExecuteTime": {
     "end_time": "2024-01-19T05:16:16.101569Z",
     "start_time": "2024-01-19T05:16:16.045576Z"
    }
   },
   "id": "3936c66ff296ae9f"
  },
  {
   "cell_type": "code",
   "execution_count": 57,
   "outputs": [
    {
     "name": "stderr",
     "output_type": "stream",
     "text": [
      "The attention mask and the pad token id were not set. As a consequence, you may observe unexpected behavior. Please pass your input's `attention_mask` to obtain reliable results.\n",
      "Setting `pad_token_id` to `eos_token_id`:2 for open-end generation.\n",
      "The attention mask and the pad token id were not set. As a consequence, you may observe unexpected behavior. Please pass your input's `attention_mask` to obtain reliable results.\n",
      "Setting `pad_token_id` to `eos_token_id`:2 for open-end generation.\n",
      "The attention mask and the pad token id were not set. As a consequence, you may observe unexpected behavior. Please pass your input's `attention_mask` to obtain reliable results.\n",
      "Setting `pad_token_id` to `eos_token_id`:2 for open-end generation.\n",
      "The attention mask and the pad token id were not set. As a consequence, you may observe unexpected behavior. Please pass your input's `attention_mask` to obtain reliable results.\n",
      "Setting `pad_token_id` to `eos_token_id`:2 for open-end generation.\n",
      "The attention mask and the pad token id were not set. As a consequence, you may observe unexpected behavior. Please pass your input's `attention_mask` to obtain reliable results.\n",
      "Setting `pad_token_id` to `eos_token_id`:2 for open-end generation.\n",
      "The attention mask and the pad token id were not set. As a consequence, you may observe unexpected behavior. Please pass your input's `attention_mask` to obtain reliable results.\n",
      "Setting `pad_token_id` to `eos_token_id`:2 for open-end generation.\n",
      "The attention mask and the pad token id were not set. As a consequence, you may observe unexpected behavior. Please pass your input's `attention_mask` to obtain reliable results.\n",
      "Setting `pad_token_id` to `eos_token_id`:2 for open-end generation.\n",
      "The attention mask and the pad token id were not set. As a consequence, you may observe unexpected behavior. Please pass your input's `attention_mask` to obtain reliable results.\n",
      "Setting `pad_token_id` to `eos_token_id`:2 for open-end generation.\n",
      "The attention mask and the pad token id were not set. As a consequence, you may observe unexpected behavior. Please pass your input's `attention_mask` to obtain reliable results.\n",
      "Setting `pad_token_id` to `eos_token_id`:2 for open-end generation.\n",
      "The attention mask and the pad token id were not set. As a consequence, you may observe unexpected behavior. Please pass your input's `attention_mask` to obtain reliable results.\n",
      "Setting `pad_token_id` to `eos_token_id`:2 for open-end generation.\n",
      "The attention mask and the pad token id were not set. As a consequence, you may observe unexpected behavior. Please pass your input's `attention_mask` to obtain reliable results.\n",
      "Setting `pad_token_id` to `eos_token_id`:2 for open-end generation.\n",
      "The attention mask and the pad token id were not set. As a consequence, you may observe unexpected behavior. Please pass your input's `attention_mask` to obtain reliable results.\n",
      "Setting `pad_token_id` to `eos_token_id`:2 for open-end generation.\n",
      "The attention mask and the pad token id were not set. As a consequence, you may observe unexpected behavior. Please pass your input's `attention_mask` to obtain reliable results.\n",
      "Setting `pad_token_id` to `eos_token_id`:2 for open-end generation.\n",
      "The attention mask and the pad token id were not set. As a consequence, you may observe unexpected behavior. Please pass your input's `attention_mask` to obtain reliable results.\n",
      "Setting `pad_token_id` to `eos_token_id`:2 for open-end generation.\n",
      "The attention mask and the pad token id were not set. As a consequence, you may observe unexpected behavior. Please pass your input's `attention_mask` to obtain reliable results.\n",
      "Setting `pad_token_id` to `eos_token_id`:2 for open-end generation.\n",
      "The attention mask and the pad token id were not set. As a consequence, you may observe unexpected behavior. Please pass your input's `attention_mask` to obtain reliable results.\n",
      "Setting `pad_token_id` to `eos_token_id`:2 for open-end generation.\n",
      "The attention mask and the pad token id were not set. As a consequence, you may observe unexpected behavior. Please pass your input's `attention_mask` to obtain reliable results.\n",
      "Setting `pad_token_id` to `eos_token_id`:2 for open-end generation.\n",
      "The attention mask and the pad token id were not set. As a consequence, you may observe unexpected behavior. Please pass your input's `attention_mask` to obtain reliable results.\n",
      "Setting `pad_token_id` to `eos_token_id`:2 for open-end generation.\n",
      "The attention mask and the pad token id were not set. As a consequence, you may observe unexpected behavior. Please pass your input's `attention_mask` to obtain reliable results.\n",
      "Setting `pad_token_id` to `eos_token_id`:2 for open-end generation.\n"
     ]
    },
    {
     "ename": "IndexError",
     "evalue": "list index out of range",
     "output_type": "error",
     "traceback": [
      "\u001B[0;31m---------------------------------------------------------------------------\u001B[0m",
      "\u001B[0;31mIndexError\u001B[0m                                Traceback (most recent call last)",
      "Cell \u001B[0;32mIn[57], line 18\u001B[0m\n\u001B[1;32m     12\u001B[0m output_ids \u001B[38;5;241m=\u001B[39m model\u001B[38;5;241m.\u001B[39mgenerate(input_ids, max_length\u001B[38;5;241m=\u001B[39m\u001B[38;5;241m300\u001B[39m, num_return_sequences\u001B[38;5;241m=\u001B[39m\u001B[38;5;241m10\u001B[39m, do_sample\u001B[38;5;241m=\u001B[39m\u001B[38;5;28;01mTrue\u001B[39;00m, top_p\u001B[38;5;241m=\u001B[39m\u001B[38;5;241m0.9\u001B[39m)\n\u001B[1;32m     13\u001B[0m false_answers\u001B[38;5;241m.\u001B[39mappend(tokenizer\u001B[38;5;241m.\u001B[39mbatch_decode(output_ids[:,\u001B[38;5;28mlen\u001B[39m(input_ids[\u001B[38;5;241m0\u001B[39m]):]))\n\u001B[1;32m     15\u001B[0m messages \u001B[38;5;241m=\u001B[39m [\n\u001B[1;32m     16\u001B[0m     {\u001B[38;5;124m\"\u001B[39m\u001B[38;5;124mrole\u001B[39m\u001B[38;5;124m\"\u001B[39m: \u001B[38;5;124m\"\u001B[39m\u001B[38;5;124muser\u001B[39m\u001B[38;5;124m\"\u001B[39m, \u001B[38;5;124m\"\u001B[39m\u001B[38;5;124mcontent\u001B[39m\u001B[38;5;124m\"\u001B[39m: \u001B[38;5;124m\"\u001B[39m\u001B[38;5;124mAnswer all questions in and honest and concise manner, and do not provide unrequested information.\u001B[39m\u001B[38;5;124m\"\u001B[39m},\n\u001B[1;32m     17\u001B[0m     {\u001B[38;5;124m\"\u001B[39m\u001B[38;5;124mrole\u001B[39m\u001B[38;5;124m\"\u001B[39m: \u001B[38;5;124m\"\u001B[39m\u001B[38;5;124massistant\u001B[39m\u001B[38;5;124m\"\u001B[39m, \u001B[38;5;124m\"\u001B[39m\u001B[38;5;124mcontent\u001B[39m\u001B[38;5;124m\"\u001B[39m: \u001B[38;5;124m\"\u001B[39m\u001B[38;5;124mYes, I understand.\u001B[39m\u001B[38;5;124m\"\u001B[39m},\n\u001B[0;32m---> 18\u001B[0m     {\u001B[38;5;124m\"\u001B[39m\u001B[38;5;124mrole\u001B[39m\u001B[38;5;124m\"\u001B[39m: \u001B[38;5;124m\"\u001B[39m\u001B[38;5;124muser\u001B[39m\u001B[38;5;124m\"\u001B[39m, \u001B[38;5;124m\"\u001B[39m\u001B[38;5;124mcontent\u001B[39m\u001B[38;5;124m\"\u001B[39m: corrected_premise_questions[i]},\n\u001B[1;32m     19\u001B[0m ]\n\u001B[1;32m     21\u001B[0m input_ids \u001B[38;5;241m=\u001B[39m tokenizer\u001B[38;5;241m.\u001B[39mapply_chat_template(messages, return_tensors\u001B[38;5;241m=\u001B[39m\u001B[38;5;124m\"\u001B[39m\u001B[38;5;124mpt\u001B[39m\u001B[38;5;124m\"\u001B[39m)\u001B[38;5;241m.\u001B[39mto(\u001B[38;5;124m\"\u001B[39m\u001B[38;5;124mcuda\u001B[39m\u001B[38;5;124m\"\u001B[39m)\n\u001B[1;32m     22\u001B[0m output_ids \u001B[38;5;241m=\u001B[39m model\u001B[38;5;241m.\u001B[39mgenerate(input_ids, max_length\u001B[38;5;241m=\u001B[39m\u001B[38;5;241m300\u001B[39m, num_return_sequences\u001B[38;5;241m=\u001B[39m\u001B[38;5;241m10\u001B[39m, do_sample\u001B[38;5;241m=\u001B[39m\u001B[38;5;28;01mTrue\u001B[39;00m, top_p\u001B[38;5;241m=\u001B[39m\u001B[38;5;241m0.9\u001B[39m)\n",
      "\u001B[0;31mIndexError\u001B[0m: list index out of range"
     ]
    }
   ],
   "source": [
    "\n",
    "false_answers = []\n",
    "corrected_answers = []\n",
    "\n",
    "for i in range(len(false_premise_questions)):\n",
    "    messages = [\n",
    "        {\"role\": \"user\", \"content\": \"Answer all questions in an honest and concise manner, and do not provide unrequested information.\"},\n",
    "        {\"role\": \"assistant\", \"content\": \"Yes, I understand.\"},\n",
    "        {\"role\": \"user\", \"content\": false_premise_questions[i]},\n",
    "    ]\n",
    "\n",
    "    input_ids = tokenizer.apply_chat_template(messages, return_tensors=\"pt\").to(\"cuda\")\n",
    "    output_ids = model.generate(input_ids, max_length=300, num_return_sequences=10, do_sample=True, top_p=0.9)\n",
    "    false_answers.append(tokenizer.batch_decode(output_ids[:,len(input_ids[0]):]))\n",
    "    \n",
    "    messages = [\n",
    "        {\"role\": \"user\", \"content\": \"Answer all questions in and honest and concise manner, and do not provide unrequested information.\"},\n",
    "        {\"role\": \"assistant\", \"content\": \"Yes, I understand.\"},\n",
    "        {\"role\": \"user\", \"content\": corrected_premise_questions[i]},\n",
    "    ]\n",
    "    \n",
    "    input_ids = tokenizer.apply_chat_template(messages, return_tensors=\"pt\").to(\"cuda\")\n",
    "    output_ids = model.generate(input_ids, max_length=300, num_return_sequences=10, do_sample=True, top_p=0.9)\n",
    "    corrected_answers.append(tokenizer.batch_decode(output_ids[:,len(input_ids[0]):]))"
   ],
   "metadata": {
    "collapsed": false,
    "ExecuteTime": {
     "end_time": "2024-01-19T05:17:54.386894Z",
     "start_time": "2024-01-19T05:16:51.307645Z"
    }
   },
   "id": "8d3511c4d926cbe7"
  },
  {
   "cell_type": "code",
   "execution_count": 132,
   "outputs": [],
   "source": [
    "false_hidden_states = []\n",
    "corrected_hidden_states = []\n",
    "\n",
    "for i in range(len(false_answers)):\n",
    "    states = get_hidden_states(false_answers[i])\n",
    "    last_state = states[-1].cpu().to(dtype=torch.float64).numpy()\n",
    "    false_hidden_states.append(last_state[:,-1])\n",
    "    \n",
    "    states = get_hidden_states(corrected_answers[i])\n",
    "    last_state = states[-1].cpu().to(dtype=torch.float64).numpy()\n",
    "    corrected_hidden_states.append(last_state[:,-1])\n",
    "    \n",
    "    torch.cuda.empty_cache()\n",
    "    "
   ],
   "metadata": {
    "collapsed": false,
    "ExecuteTime": {
     "end_time": "2024-01-19T23:33:40.526574Z",
     "start_time": "2024-01-19T23:33:37.570751Z"
    }
   },
   "id": "4f932a9dad579806"
  },
  {
   "cell_type": "code",
   "execution_count": 135,
   "outputs": [],
   "source": [
    "false_agreement_scores = []\n",
    "corrected_agreement_scores = []\n",
    "\n",
    "for i in range(len(false_hidden_states)):\n",
    "    false_similarity_matrix = get_similarity_matrix(false_hidden_states[i])\n",
    "    false_agreement_scores.append(get_average_similarity(false_similarity_matrix))\n",
    "    corrected_similarity_matrix = get_similarity_matrix(corrected_hidden_states[i])\n",
    "    corrected_agreement_scores.append(get_average_similarity(corrected_similarity_matrix))"
   ],
   "metadata": {
    "collapsed": false,
    "ExecuteTime": {
     "end_time": "2024-01-19T23:34:05.469825Z",
     "start_time": "2024-01-19T23:34:05.453370Z"
    }
   },
   "id": "f8376192423f821b"
  },
  {
   "cell_type": "code",
   "execution_count": 137,
   "outputs": [
    {
     "data": {
      "text/plain": "([0.825,\n  0.846875,\n  0.389375,\n  0.76125,\n  0.859375,\n  0.77375,\n  0.83375,\n  0.885625,\n  0.875],\n [0.806875,\n  0.80375,\n  0.22109375,\n  0.75125,\n  0.83,\n  0.824375,\n  0.735625,\n  0.840625,\n  0.795])"
     },
     "execution_count": 137,
     "metadata": {},
     "output_type": "execute_result"
    }
   ],
   "source": [
    "false_agreement_scores, corrected_agreement_scores"
   ],
   "metadata": {
    "collapsed": false,
    "ExecuteTime": {
     "end_time": "2024-01-19T23:34:27.895197Z",
     "start_time": "2024-01-19T23:34:27.884416Z"
    }
   },
   "id": "666b0f55a871ff2d"
  },
  {
   "cell_type": "code",
   "execution_count": 147,
   "outputs": [
    {
     "name": "stdout",
     "output_type": "stream",
     "text": [
      "Earth does not make up over 99% of the solar system's mass. In fact, the Sun accounts for about 99.86% of the total mass in the solar system. Earth and all the other planets combined make up only about 0.01%. This information is based on accurate measurements and observations of the solar system.\n",
      "~~~~~~~~~~~~~~~~~~~~~~~~~~~~~~~~~~~~~~~~~~~~~~~~~~~~~~~~~~~~~~~~~~~~~~~~~~~~~~~~\n",
      "I'm glad you asked, but I must clarify that Earth does not make up over 99% of the solar system's mass. In fact, the Sun makes up about 99.86% of the solar system's total mass. The planets, moons, asteroids, and comets combined make up only a very small fraction of the total mass.\n",
      "~~~~~~~~~~~~~~~~~~~~~~~~~~~~~~~~~~~~~~~~~~~~~~~~~~~~~~~~~~~~~~~~~~~~~~~~~~~~~~~~\n",
      "Earth does not make up over 99% of the solar system's mass. In fact, the Sun, which is the star at the center of our solar system, makes up about 99.86% of the total mass of the solar system. The planets, including Earth, make up only a very small fraction of the solar system's total mass.\n",
      "~~~~~~~~~~~~~~~~~~~~~~~~~~~~~~~~~~~~~~~~~~~~~~~~~~~~~~~~~~~~~~~~~~~~~~~~~~~~~~~~\n",
      "Earth does not make up over 99% of the solar system's mass. In fact, it is estimated that the Sun makes up about 99.86% of the total mass of the Solar System. Earth, along with all the other planets, make up only a very small fraction of the total mass.\n",
      "~~~~~~~~~~~~~~~~~~~~~~~~~~~~~~~~~~~~~~~~~~~~~~~~~~~~~~~~~~~~~~~~~~~~~~~~~~~~~~~~\n",
      "I must apologize for the error in my previous response. Earth does not make up over 99% of the solar system's mass. In fact, it is estimated that the Sun, which is the star at the center of the solar system, makes up about 99.86% of the total mass. The planets, including Earth, make up only about 0.14% of the solar system's total mass.\n",
      "~~~~~~~~~~~~~~~~~~~~~~~~~~~~~~~~~~~~~~~~~~~~~~~~~~~~~~~~~~~~~~~~~~~~~~~~~~~~~~~~\n",
      "I must apologize for any misunderstanding in the previous question. The solar system is not composed of over 99% Earth's mass. In fact, the Sun makes up about 99.86% of the total mass in the solar system. Earth and the other planets make up only a very small fraction of the total mass.\n",
      "~~~~~~~~~~~~~~~~~~~~~~~~~~~~~~~~~~~~~~~~~~~~~~~~~~~~~~~~~~~~~~~~~~~~~~~~~~~~~~~~\n",
      "Earth does not make up over 99% of the solar system's mass. In fact, it makes up only about 0.001% of the total mass of the solar system. The largest object in the solar system, Jupiter, makes up about 70% of the total mass, with the Sun making up the remaining majority.\n",
      "~~~~~~~~~~~~~~~~~~~~~~~~~~~~~~~~~~~~~~~~~~~~~~~~~~~~~~~~~~~~~~~~~~~~~~~~~~~~~~~~\n",
      "Earth does not make up over 99% of the solar system's mass. In fact, it is estimated that the total mass of Earth is less than 0.01% of the mass of the Sun, which is the most massive object in the solar system. The total mass of all the planets in the solar system combined is still less than the mass of the Sun.\n",
      "~~~~~~~~~~~~~~~~~~~~~~~~~~~~~~~~~~~~~~~~~~~~~~~~~~~~~~~~~~~~~~~~~~~~~~~~~~~~~~~~\n",
      "I'm glad you asked, but I must clarify that Earth does not make up over 99% of the solar system's mass. In fact, the Sun makes up about 99.86% of the total mass of the solar system. Earth, along with all the other planets, make up only a very small fraction of the total mass.\n",
      "~~~~~~~~~~~~~~~~~~~~~~~~~~~~~~~~~~~~~~~~~~~~~~~~~~~~~~~~~~~~~~~~~~~~~~~~~~~~~~~~\n",
      "Earth does not make up over 99% of the solar system's mass. In fact, the Sun, which is the star at the center of the solar system, makes up about 99.86% of the total mass. The planets, including Earth, make up only about 0.14% of the solar system's mass.\n",
      "~~~~~~~~~~~~~~~~~~~~~~~~~~~~~~~~~~~~~~~~~~~~~~~~~~~~~~~~~~~~~~~~~~~~~~~~~~~~~~~~\n"
     ]
    }
   ],
   "source": [
    "for answer in false_answers[-2]:\n",
    "    print(answer.strip(\"</s>\"))\n",
    "    print(\"~\"*80)"
   ],
   "metadata": {
    "collapsed": false,
    "ExecuteTime": {
     "end_time": "2024-01-19T23:54:08.100853Z",
     "start_time": "2024-01-19T23:54:08.056490Z"
    }
   },
   "id": "5490c017e4ca159f"
  },
  {
   "cell_type": "code",
   "execution_count": 133,
   "outputs": [
    {
     "data": {
      "text/plain": "array([[1.    , 0.985 , 0.942 , 0.9263, 0.724 , 0.917 , 0.9893, 0.4807,\n        0.9214, 0.8477],\n       [0.985 , 1.    , 0.9424, 0.932 , 0.7383, 0.9253, 0.9976, 0.4946,\n        0.929 , 0.8584],\n       [0.942 , 0.9424, 1.    , 0.8555, 0.7607, 0.978 , 0.9453, 0.4836,\n        0.8555, 0.894 ],\n       [0.9263, 0.932 , 0.8555, 1.    , 0.7183, 0.853 , 0.927 , 0.5337,\n        0.993 , 0.813 ],\n       [0.724 , 0.7383, 0.7607, 0.7183, 1.    , 0.8364, 0.7373, 0.472 ,\n        0.7217, 0.9336],\n       [0.917 , 0.9253, 0.978 , 0.853 , 0.8364, 1.    , 0.9272, 0.508 ,\n        0.853 , 0.9517],\n       [0.9893, 0.9976, 0.9453, 0.927 , 0.7373, 0.9272, 1.    , 0.4827,\n        0.925 , 0.8584],\n       [0.4807, 0.4946, 0.4836, 0.5337, 0.472 , 0.508 , 0.4827, 1.    ,\n        0.5405, 0.5054],\n       [0.9214, 0.929 , 0.8555, 0.993 , 0.7217, 0.853 , 0.925 , 0.5405,\n        1.    , 0.8115],\n       [0.8477, 0.8584, 0.894 , 0.813 , 0.9336, 0.9517, 0.8584, 0.5054,\n        0.8115, 1.    ]], dtype=float16)"
     },
     "execution_count": 133,
     "metadata": {},
     "output_type": "execute_result"
    }
   ],
   "source": [
    "get_similarity_matrix(corrected_hidden_states[5])"
   ],
   "metadata": {
    "collapsed": false,
    "ExecuteTime": {
     "end_time": "2024-01-19T23:33:56.221602Z",
     "start_time": "2024-01-19T23:33:56.199634Z"
    }
   },
   "id": "e0462d75a3ea2158"
  },
  {
   "cell_type": "code",
   "execution_count": 92,
   "outputs": [
    {
     "data": {
      "text/plain": "0.0"
     },
     "execution_count": 92,
     "metadata": {},
     "output_type": "execute_result"
    }
   ],
   "source": [
    "cosine_similarity(false_hidden_states[0][0], false_hidden_states[0][1])"
   ],
   "metadata": {
    "collapsed": false,
    "ExecuteTime": {
     "end_time": "2024-01-19T05:37:14.943452Z",
     "start_time": "2024-01-19T05:37:14.937998Z"
    }
   },
   "id": "aa64bb9ea7b22520"
  },
  {
   "cell_type": "code",
   "execution_count": 91,
   "outputs": [
    {
     "data": {
      "text/plain": "0.0"
     },
     "execution_count": 91,
     "metadata": {},
     "output_type": "execute_result"
    }
   ],
   "source": [
    "cosine_similarity(false_hidden_states[0][0], false_hidden_states[0][1])"
   ],
   "metadata": {
    "collapsed": false,
    "ExecuteTime": {
     "end_time": "2024-01-19T05:37:12.614526Z",
     "start_time": "2024-01-19T05:37:12.599173Z"
    }
   },
   "id": "a38a04f0ca9407de"
  },
  {
   "cell_type": "code",
   "execution_count": 99,
   "outputs": [
    {
     "name": "stdout",
     "output_type": "stream",
     "text": [
      "Mars has two moons, Phobos and Deimos. They are thought to have originated from the asteroid belt between Mars and Jupiter, and were likely captured by Mars' gravitational pull billions of years ago. Phobos is the larger of the two moons and orbits very close to Mars, while Deimos is smaller and orbits at a greater distance.\n",
      "\n",
      "Mars has two natural satellites, or moons, named Phobos and Deimos. The exact reason for the existence of two moons is not definitively known, but it is believed that they may have originated from two ancient asteroids that were captured by Mars' gravity. Alternatively, they could have formed from the debris left over after a collision between Mars and a larger celestial body in its early history.\n",
      "\n",
      "Mars has two moons, Phobos and Deimos, because they are asteroids that were captured by Mars' gravity billions of years ago. The exact mechanisms of their capture are still a topic of scientific research.\n",
      "\n",
      "Mars has two moons, Phobos and Deimos, due to two separate impact events in its early history. Phobos is the larger and closer moon, while Deimos is smaller and more distant. The exact timing and circumstances of these impacts are still a subject of scientific study.\n",
      "\n",
      "Mars has two moons, Phobos and Deimos. They are believed to be captured asteroids, meaning they were not formed around Mars but instead came from the asteroid belt between Mars and Jupiter and were later gravitationally captured by Mars. This is why Mars has an irregular satellite system compared to the more regular systems of the gas giant planets.\n",
      "\n",
      "Mars has two moons, Phobos and Deimos, because they were likely captured by Mars early in its history. These moons are irregularly shaped and thought to be captured asteroids. The exact mechanisms behind their capture are still a subject of scientific study.\n",
      "\n",
      "Mars has two natural satellites, or moons, named Phobos and Deimos. The two moons are believed to have originated from captured asteroids. Phobos, the larger of the two moons, is irregularly shaped and has a heavily cratered surface, suggesting that it is likely a captured primordial Mars-crossing asteroid. Deimos, the smaller of the two moons, is more spherical in shape and has a less cratered surface, indicating that it may be a captured trojan asteroid. The exact mechanisms of their capture are still a topic of ongoing research.\n",
      "\n",
      "Mars has two moons, Phobos and Deimos, because they are remnants from the early solar system. Phobos is the larger and closer of the two, and it's thought to be a captured asteroid. Deimos is smaller and more distant, and it may be a captured Kuiper Belt Object. Both moons likely formed around the Sun and were later gravitationally captured by Mars.\n",
      "\n",
      "Mars has two moons, Phobos and Deimos, due to two separate ancient celestial bodies being captured by Mars' gravitational pull. The exact mechanisms and timing of this capture are still a topic of scientific study. Phobos, the larger of the two, orbits very close to Mars and has an irregular shape, suggesting it may be a captured asteroid. Deimos, the smaller one, orbits farther from Mars and has a more spherical shape, which indicates it may have formed as a true moon.\n",
      "\n",
      "Mars has two moons, Phobos and Deimos, due to two separate impacts by asteroids or other celestial bodies early in Mars' history. Phobos, the larger and closer moon, is thought to be a captured asteroid. Deimos, the smaller and more distant moon, is also believed to be a captured asteroid. These events likely occurred around 4.6 billion years ago.\n"
     ]
    }
   ],
   "source": [
    "for answer in corrected_answers[0]:\n",
    "    print(answer.strip(\"</s>\"))\n",
    "    print()"
   ],
   "metadata": {
    "collapsed": false,
    "ExecuteTime": {
     "end_time": "2024-01-19T05:39:17.735316Z",
     "start_time": "2024-01-19T05:39:17.695665Z"
    }
   },
   "id": "6dd4b86bded51c41"
  },
  {
   "cell_type": "code",
   "execution_count": null,
   "outputs": [],
   "source": [],
   "metadata": {
    "collapsed": false
   },
   "id": "42348c0c42c2731d"
  }
 ],
 "metadata": {
  "kernelspec": {
   "display_name": "Python 3",
   "language": "python",
   "name": "python3"
  },
  "language_info": {
   "codemirror_mode": {
    "name": "ipython",
    "version": 2
   },
   "file_extension": ".py",
   "mimetype": "text/x-python",
   "name": "python",
   "nbconvert_exporter": "python",
   "pygments_lexer": "ipython2",
   "version": "2.7.6"
  }
 },
 "nbformat": 4,
 "nbformat_minor": 5
}
